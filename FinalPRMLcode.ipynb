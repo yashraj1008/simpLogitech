{
  "cells": [
    {
      "cell_type": "markdown",
      "metadata": {
        "id": "view-in-github",
        "colab_type": "text"
      },
      "source": [
        "<a href=\"https://colab.research.google.com/github/yashraj1008/simpLogitech/blob/master/FinalPRMLcode.ipynb\" target=\"_parent\"><img src=\"https://colab.research.google.com/assets/colab-badge.svg\" alt=\"Open In Colab\"/></a>"
      ]
    },
    {
      "cell_type": "markdown",
      "metadata": {
        "id": "5Ce14OgkfaAc"
      },
      "source": [
        "**Career Guidance System**"
      ]
    },
    {
      "cell_type": "code",
      "execution_count": 22,
      "metadata": {
        "colab": {
          "base_uri": "https://localhost:8080/",
          "height": 359
        },
        "id": "VREYLjokfSaN",
        "outputId": "03b46a9c-fb07-461d-d3e3-9799f95c00ae"
      },
      "outputs": [
        {
          "output_type": "stream",
          "name": "stdout",
          "text": [
            "(7525, 26)\n"
          ]
        },
        {
          "output_type": "execute_result",
          "data": {
            "text/plain": [
              "   sslc  hsc  cgpa  school_type  no_of_miniprojects  no_of_projects  \\\n",
              "0     2    3     2            3                   1               1   \n",
              "1     3    1     2            2                   2               1   \n",
              "2     3    4     2            2                   1               1   \n",
              "3     3    4     2            1                   1               1   \n",
              "4     2    3     2            4                   1               1   \n",
              "\n",
              "   coresub_skill  aptitude_skill  problemsolving_skill  programming_skill  \\\n",
              "0              1               1                     2                  4   \n",
              "1              1               3                     2                  4   \n",
              "2              1               2                     3                  3   \n",
              "3              1               1                     3                  2   \n",
              "4              1               4                     3                  3   \n",
              "\n",
              "   ...  technology_used  sympos_attend  sympos_won  extracurricular  \\\n",
              "0  ...                1              3           1                2   \n",
              "1  ...                2              3           2                3   \n",
              "2  ...                1              4           3                1   \n",
              "3  ...                1              3           2                1   \n",
              "4  ...                1              2           1                3   \n",
              "\n",
              "   learning_style  college_bench  clg_teachers_know  college_performence   \\\n",
              "0               2              4                  3                     4   \n",
              "1               2              5                  3                     3   \n",
              "2               4              3                  3                     3   \n",
              "3               2              1                  4                     4   \n",
              "4               1              5                  4                     3   \n",
              "\n",
              "   college_skills                ROLE  \n",
              "0               5   Technical Support  \n",
              "1               4  Software Developer  \n",
              "2               4      UI/UX Designer  \n",
              "3               3   Technical Support  \n",
              "4               1        Data Analyst  \n",
              "\n",
              "[5 rows x 26 columns]"
            ],
            "text/html": [
              "\n",
              "  <div id=\"df-84a1e24e-9b7d-46ff-b69c-dec54455d2b4\" class=\"colab-df-container\">\n",
              "    <div>\n",
              "<style scoped>\n",
              "    .dataframe tbody tr th:only-of-type {\n",
              "        vertical-align: middle;\n",
              "    }\n",
              "\n",
              "    .dataframe tbody tr th {\n",
              "        vertical-align: top;\n",
              "    }\n",
              "\n",
              "    .dataframe thead th {\n",
              "        text-align: right;\n",
              "    }\n",
              "</style>\n",
              "<table border=\"1\" class=\"dataframe\">\n",
              "  <thead>\n",
              "    <tr style=\"text-align: right;\">\n",
              "      <th></th>\n",
              "      <th>sslc</th>\n",
              "      <th>hsc</th>\n",
              "      <th>cgpa</th>\n",
              "      <th>school_type</th>\n",
              "      <th>no_of_miniprojects</th>\n",
              "      <th>no_of_projects</th>\n",
              "      <th>coresub_skill</th>\n",
              "      <th>aptitude_skill</th>\n",
              "      <th>problemsolving_skill</th>\n",
              "      <th>programming_skill</th>\n",
              "      <th>...</th>\n",
              "      <th>technology_used</th>\n",
              "      <th>sympos_attend</th>\n",
              "      <th>sympos_won</th>\n",
              "      <th>extracurricular</th>\n",
              "      <th>learning_style</th>\n",
              "      <th>college_bench</th>\n",
              "      <th>clg_teachers_know</th>\n",
              "      <th>college_performence</th>\n",
              "      <th>college_skills</th>\n",
              "      <th>ROLE</th>\n",
              "    </tr>\n",
              "  </thead>\n",
              "  <tbody>\n",
              "    <tr>\n",
              "      <th>0</th>\n",
              "      <td>2</td>\n",
              "      <td>3</td>\n",
              "      <td>2</td>\n",
              "      <td>3</td>\n",
              "      <td>1</td>\n",
              "      <td>1</td>\n",
              "      <td>1</td>\n",
              "      <td>1</td>\n",
              "      <td>2</td>\n",
              "      <td>4</td>\n",
              "      <td>...</td>\n",
              "      <td>1</td>\n",
              "      <td>3</td>\n",
              "      <td>1</td>\n",
              "      <td>2</td>\n",
              "      <td>2</td>\n",
              "      <td>4</td>\n",
              "      <td>3</td>\n",
              "      <td>4</td>\n",
              "      <td>5</td>\n",
              "      <td>Technical Support</td>\n",
              "    </tr>\n",
              "    <tr>\n",
              "      <th>1</th>\n",
              "      <td>3</td>\n",
              "      <td>1</td>\n",
              "      <td>2</td>\n",
              "      <td>2</td>\n",
              "      <td>2</td>\n",
              "      <td>1</td>\n",
              "      <td>1</td>\n",
              "      <td>3</td>\n",
              "      <td>2</td>\n",
              "      <td>4</td>\n",
              "      <td>...</td>\n",
              "      <td>2</td>\n",
              "      <td>3</td>\n",
              "      <td>2</td>\n",
              "      <td>3</td>\n",
              "      <td>2</td>\n",
              "      <td>5</td>\n",
              "      <td>3</td>\n",
              "      <td>3</td>\n",
              "      <td>4</td>\n",
              "      <td>Software Developer</td>\n",
              "    </tr>\n",
              "    <tr>\n",
              "      <th>2</th>\n",
              "      <td>3</td>\n",
              "      <td>4</td>\n",
              "      <td>2</td>\n",
              "      <td>2</td>\n",
              "      <td>1</td>\n",
              "      <td>1</td>\n",
              "      <td>1</td>\n",
              "      <td>2</td>\n",
              "      <td>3</td>\n",
              "      <td>3</td>\n",
              "      <td>...</td>\n",
              "      <td>1</td>\n",
              "      <td>4</td>\n",
              "      <td>3</td>\n",
              "      <td>1</td>\n",
              "      <td>4</td>\n",
              "      <td>3</td>\n",
              "      <td>3</td>\n",
              "      <td>3</td>\n",
              "      <td>4</td>\n",
              "      <td>UI/UX Designer</td>\n",
              "    </tr>\n",
              "    <tr>\n",
              "      <th>3</th>\n",
              "      <td>3</td>\n",
              "      <td>4</td>\n",
              "      <td>2</td>\n",
              "      <td>1</td>\n",
              "      <td>1</td>\n",
              "      <td>1</td>\n",
              "      <td>1</td>\n",
              "      <td>1</td>\n",
              "      <td>3</td>\n",
              "      <td>2</td>\n",
              "      <td>...</td>\n",
              "      <td>1</td>\n",
              "      <td>3</td>\n",
              "      <td>2</td>\n",
              "      <td>1</td>\n",
              "      <td>2</td>\n",
              "      <td>1</td>\n",
              "      <td>4</td>\n",
              "      <td>4</td>\n",
              "      <td>3</td>\n",
              "      <td>Technical Support</td>\n",
              "    </tr>\n",
              "    <tr>\n",
              "      <th>4</th>\n",
              "      <td>2</td>\n",
              "      <td>3</td>\n",
              "      <td>2</td>\n",
              "      <td>4</td>\n",
              "      <td>1</td>\n",
              "      <td>1</td>\n",
              "      <td>1</td>\n",
              "      <td>4</td>\n",
              "      <td>3</td>\n",
              "      <td>3</td>\n",
              "      <td>...</td>\n",
              "      <td>1</td>\n",
              "      <td>2</td>\n",
              "      <td>1</td>\n",
              "      <td>3</td>\n",
              "      <td>1</td>\n",
              "      <td>5</td>\n",
              "      <td>4</td>\n",
              "      <td>3</td>\n",
              "      <td>1</td>\n",
              "      <td>Data Analyst</td>\n",
              "    </tr>\n",
              "  </tbody>\n",
              "</table>\n",
              "<p>5 rows × 26 columns</p>\n",
              "</div>\n",
              "    <div class=\"colab-df-buttons\">\n",
              "\n",
              "  <div class=\"colab-df-container\">\n",
              "    <button class=\"colab-df-convert\" onclick=\"convertToInteractive('df-84a1e24e-9b7d-46ff-b69c-dec54455d2b4')\"\n",
              "            title=\"Convert this dataframe to an interactive table.\"\n",
              "            style=\"display:none;\">\n",
              "\n",
              "  <svg xmlns=\"http://www.w3.org/2000/svg\" height=\"24px\" viewBox=\"0 -960 960 960\">\n",
              "    <path d=\"M120-120v-720h720v720H120Zm60-500h600v-160H180v160Zm220 220h160v-160H400v160Zm0 220h160v-160H400v160ZM180-400h160v-160H180v160Zm440 0h160v-160H620v160ZM180-180h160v-160H180v160Zm440 0h160v-160H620v160Z\"/>\n",
              "  </svg>\n",
              "    </button>\n",
              "\n",
              "  <style>\n",
              "    .colab-df-container {\n",
              "      display:flex;\n",
              "      gap: 12px;\n",
              "    }\n",
              "\n",
              "    .colab-df-convert {\n",
              "      background-color: #E8F0FE;\n",
              "      border: none;\n",
              "      border-radius: 50%;\n",
              "      cursor: pointer;\n",
              "      display: none;\n",
              "      fill: #1967D2;\n",
              "      height: 32px;\n",
              "      padding: 0 0 0 0;\n",
              "      width: 32px;\n",
              "    }\n",
              "\n",
              "    .colab-df-convert:hover {\n",
              "      background-color: #E2EBFA;\n",
              "      box-shadow: 0px 1px 2px rgba(60, 64, 67, 0.3), 0px 1px 3px 1px rgba(60, 64, 67, 0.15);\n",
              "      fill: #174EA6;\n",
              "    }\n",
              "\n",
              "    .colab-df-buttons div {\n",
              "      margin-bottom: 4px;\n",
              "    }\n",
              "\n",
              "    [theme=dark] .colab-df-convert {\n",
              "      background-color: #3B4455;\n",
              "      fill: #D2E3FC;\n",
              "    }\n",
              "\n",
              "    [theme=dark] .colab-df-convert:hover {\n",
              "      background-color: #434B5C;\n",
              "      box-shadow: 0px 1px 3px 1px rgba(0, 0, 0, 0.15);\n",
              "      filter: drop-shadow(0px 1px 2px rgba(0, 0, 0, 0.3));\n",
              "      fill: #FFFFFF;\n",
              "    }\n",
              "  </style>\n",
              "\n",
              "    <script>\n",
              "      const buttonEl =\n",
              "        document.querySelector('#df-84a1e24e-9b7d-46ff-b69c-dec54455d2b4 button.colab-df-convert');\n",
              "      buttonEl.style.display =\n",
              "        google.colab.kernel.accessAllowed ? 'block' : 'none';\n",
              "\n",
              "      async function convertToInteractive(key) {\n",
              "        const element = document.querySelector('#df-84a1e24e-9b7d-46ff-b69c-dec54455d2b4');\n",
              "        const dataTable =\n",
              "          await google.colab.kernel.invokeFunction('convertToInteractive',\n",
              "                                                    [key], {});\n",
              "        if (!dataTable) return;\n",
              "\n",
              "        const docLinkHtml = 'Like what you see? Visit the ' +\n",
              "          '<a target=\"_blank\" href=https://colab.research.google.com/notebooks/data_table.ipynb>data table notebook</a>'\n",
              "          + ' to learn more about interactive tables.';\n",
              "        element.innerHTML = '';\n",
              "        dataTable['output_type'] = 'display_data';\n",
              "        await google.colab.output.renderOutput(dataTable, element);\n",
              "        const docLink = document.createElement('div');\n",
              "        docLink.innerHTML = docLinkHtml;\n",
              "        element.appendChild(docLink);\n",
              "      }\n",
              "    </script>\n",
              "  </div>\n",
              "\n",
              "\n",
              "<div id=\"df-01aeb01a-ae2a-456f-bc0f-3e584ca9de72\">\n",
              "  <button class=\"colab-df-quickchart\" onclick=\"quickchart('df-01aeb01a-ae2a-456f-bc0f-3e584ca9de72')\"\n",
              "            title=\"Suggest charts\"\n",
              "            style=\"display:none;\">\n",
              "\n",
              "<svg xmlns=\"http://www.w3.org/2000/svg\" height=\"24px\"viewBox=\"0 0 24 24\"\n",
              "     width=\"24px\">\n",
              "    <g>\n",
              "        <path d=\"M19 3H5c-1.1 0-2 .9-2 2v14c0 1.1.9 2 2 2h14c1.1 0 2-.9 2-2V5c0-1.1-.9-2-2-2zM9 17H7v-7h2v7zm4 0h-2V7h2v10zm4 0h-2v-4h2v4z\"/>\n",
              "    </g>\n",
              "</svg>\n",
              "  </button>\n",
              "\n",
              "<style>\n",
              "  .colab-df-quickchart {\n",
              "      --bg-color: #E8F0FE;\n",
              "      --fill-color: #1967D2;\n",
              "      --hover-bg-color: #E2EBFA;\n",
              "      --hover-fill-color: #174EA6;\n",
              "      --disabled-fill-color: #AAA;\n",
              "      --disabled-bg-color: #DDD;\n",
              "  }\n",
              "\n",
              "  [theme=dark] .colab-df-quickchart {\n",
              "      --bg-color: #3B4455;\n",
              "      --fill-color: #D2E3FC;\n",
              "      --hover-bg-color: #434B5C;\n",
              "      --hover-fill-color: #FFFFFF;\n",
              "      --disabled-bg-color: #3B4455;\n",
              "      --disabled-fill-color: #666;\n",
              "  }\n",
              "\n",
              "  .colab-df-quickchart {\n",
              "    background-color: var(--bg-color);\n",
              "    border: none;\n",
              "    border-radius: 50%;\n",
              "    cursor: pointer;\n",
              "    display: none;\n",
              "    fill: var(--fill-color);\n",
              "    height: 32px;\n",
              "    padding: 0;\n",
              "    width: 32px;\n",
              "  }\n",
              "\n",
              "  .colab-df-quickchart:hover {\n",
              "    background-color: var(--hover-bg-color);\n",
              "    box-shadow: 0 1px 2px rgba(60, 64, 67, 0.3), 0 1px 3px 1px rgba(60, 64, 67, 0.15);\n",
              "    fill: var(--button-hover-fill-color);\n",
              "  }\n",
              "\n",
              "  .colab-df-quickchart-complete:disabled,\n",
              "  .colab-df-quickchart-complete:disabled:hover {\n",
              "    background-color: var(--disabled-bg-color);\n",
              "    fill: var(--disabled-fill-color);\n",
              "    box-shadow: none;\n",
              "  }\n",
              "\n",
              "  .colab-df-spinner {\n",
              "    border: 2px solid var(--fill-color);\n",
              "    border-color: transparent;\n",
              "    border-bottom-color: var(--fill-color);\n",
              "    animation:\n",
              "      spin 1s steps(1) infinite;\n",
              "  }\n",
              "\n",
              "  @keyframes spin {\n",
              "    0% {\n",
              "      border-color: transparent;\n",
              "      border-bottom-color: var(--fill-color);\n",
              "      border-left-color: var(--fill-color);\n",
              "    }\n",
              "    20% {\n",
              "      border-color: transparent;\n",
              "      border-left-color: var(--fill-color);\n",
              "      border-top-color: var(--fill-color);\n",
              "    }\n",
              "    30% {\n",
              "      border-color: transparent;\n",
              "      border-left-color: var(--fill-color);\n",
              "      border-top-color: var(--fill-color);\n",
              "      border-right-color: var(--fill-color);\n",
              "    }\n",
              "    40% {\n",
              "      border-color: transparent;\n",
              "      border-right-color: var(--fill-color);\n",
              "      border-top-color: var(--fill-color);\n",
              "    }\n",
              "    60% {\n",
              "      border-color: transparent;\n",
              "      border-right-color: var(--fill-color);\n",
              "    }\n",
              "    80% {\n",
              "      border-color: transparent;\n",
              "      border-right-color: var(--fill-color);\n",
              "      border-bottom-color: var(--fill-color);\n",
              "    }\n",
              "    90% {\n",
              "      border-color: transparent;\n",
              "      border-bottom-color: var(--fill-color);\n",
              "    }\n",
              "  }\n",
              "</style>\n",
              "\n",
              "  <script>\n",
              "    async function quickchart(key) {\n",
              "      const quickchartButtonEl =\n",
              "        document.querySelector('#' + key + ' button');\n",
              "      quickchartButtonEl.disabled = true;  // To prevent multiple clicks.\n",
              "      quickchartButtonEl.classList.add('colab-df-spinner');\n",
              "      try {\n",
              "        const charts = await google.colab.kernel.invokeFunction(\n",
              "            'suggestCharts', [key], {});\n",
              "      } catch (error) {\n",
              "        console.error('Error during call to suggestCharts:', error);\n",
              "      }\n",
              "      quickchartButtonEl.classList.remove('colab-df-spinner');\n",
              "      quickchartButtonEl.classList.add('colab-df-quickchart-complete');\n",
              "    }\n",
              "    (() => {\n",
              "      let quickchartButtonEl =\n",
              "        document.querySelector('#df-01aeb01a-ae2a-456f-bc0f-3e584ca9de72 button');\n",
              "      quickchartButtonEl.style.display =\n",
              "        google.colab.kernel.accessAllowed ? 'block' : 'none';\n",
              "    })();\n",
              "  </script>\n",
              "</div>\n",
              "\n",
              "    </div>\n",
              "  </div>\n"
            ],
            "application/vnd.google.colaboratory.intrinsic+json": {
              "type": "dataframe",
              "variable_name": "dataset"
            }
          },
          "metadata": {},
          "execution_count": 22
        }
      ],
      "source": [
        "#importing data\n",
        "import numpy as np\n",
        "import pandas as pd\n",
        "\n",
        "url='https://raw.githubusercontent.com/Nantha-1998/404-CODER/master/career_compute_dataset.csv'\n",
        "dataset = pd.read_csv(url)\n",
        "print(np.shape(dataset))\n",
        "dataset.head()"
      ]
    },
    {
      "cell_type": "code",
      "execution_count": 23,
      "metadata": {
        "colab": {
          "base_uri": "https://localhost:8080/"
        },
        "id": "7c1CCk-EhQic",
        "outputId": "12a225b6-97b6-4cbc-8d64-b90b7ad9348e"
      },
      "outputs": [
        {
          "output_type": "stream",
          "name": "stdout",
          "text": [
            "                 ROLE  Associated Number\n",
            "0   Technical Support                  4\n",
            "1  Software Developer                  2\n",
            "2      UI/UX Designer                  6\n",
            "3        Data Analyst                  1\n",
            "4    Technical Writer                  5\n",
            "5       Web Developer                  7\n",
            "6     Software Tester                  3\n",
            "7    Business Analyst                  0\n"
          ]
        }
      ],
      "source": [
        "data = dataset.iloc[:49,:-1].values\n",
        "label = dataset.iloc[:49,-1]\n",
        "#-------------------------------Label Encoding--------------------------#\n",
        "from sklearn.preprocessing import LabelEncoder, OneHotEncoder\n",
        "labelencoder = LabelEncoder()\n",
        "df = dataset\n",
        "label = df.iloc[:49,-1]\n",
        "original=label.unique()\n",
        "label=label.values\n",
        "label2 = labelencoder.fit_transform(label)\n",
        "y=pd.DataFrame(label2,columns=[\"ROLE\"])\n",
        "numeric=y[\"ROLE\"].unique()\n",
        "y1 = pd.DataFrame({'ROLE':original, 'Associated Number':numeric})\n",
        "print(y1)\n",
        "from sklearn.preprocessing import LabelEncoder, OneHotEncoder\n",
        "labelencoder = LabelEncoder()\n",
        "label = labelencoder.fit_transform(label)\n",
        "y=pd.DataFrame(label,columns=[\"role\"])\n",
        "X = pd.DataFrame(data,columns=['sslc','hsc','cgpa','school_type','no_of_miniprojects','no_of_projects',\n",
        "                                'coresub_skill','aptitude_skill','problemsolving_skill','programming_skill','abstractthink_skill',\n",
        "                                'design_skill','first_computer','first_program','lab_programs','ds_coding','technology_used',\n",
        "                                'sympos_attend','sympos_won','extracurricular','learning_style','college_bench','clg_teachers_know','college_performence','college_skills'])"
      ]
    },
    {
      "cell_type": "markdown",
      "metadata": {
        "id": "YZzTh9Yrf_x6"
      },
      "source": [
        "Thus, we have categorical data and categorical target.\n",
        "\n",
        "For  Feature Selection :\n",
        "\n",
        "We propose to use:\n",
        "\n",
        "1. Chi-Squared Statistic.\n",
        "2. Mutual Information Statistic.\n",
        "\n"
      ]
    },
    {
      "cell_type": "code",
      "execution_count": 24,
      "metadata": {
        "id": "EkszPWfkf_dz"
      },
      "outputs": [],
      "source": [
        "\n",
        "from pandas import read_csv\n",
        "from sklearn.model_selection import train_test_split\n",
        "from sklearn.preprocessing import LabelEncoder\n",
        "from sklearn.preprocessing import OrdinalEncoder\n",
        "from sklearn.feature_selection import SelectKBest\n",
        "from sklearn.feature_selection import chi2\n",
        "from matplotlib import pyplot"
      ]
    },
    {
      "cell_type": "code",
      "execution_count": 25,
      "metadata": {
        "colab": {
          "base_uri": "https://localhost:8080/",
          "height": 1000
        },
        "id": "An3KlNcZglav",
        "outputId": "5991e514-5e55-4467-f6c0-de912d546dc1"
      },
      "outputs": [
        {
          "output_type": "stream",
          "name": "stdout",
          "text": [
            "Feature 0: 2.101772\n",
            "Feature 1: 0.955491\n",
            "Feature 2: 1.599306\n",
            "Feature 3: 1.769333\n",
            "Feature 4: 3.316358\n",
            "Feature 5: 1.125758\n",
            "Feature 6: 1.299609\n",
            "Feature 7: 6.225678\n",
            "Feature 8: 1.013542\n",
            "Feature 9: 1.529464\n",
            "Feature 10: 6.433067\n",
            "Feature 11: 3.607745\n",
            "Feature 12: 0.611667\n",
            "Feature 13: 1.566959\n",
            "Feature 14: 0.907095\n",
            "Feature 15: 4.838542\n",
            "Feature 16: 1.000189\n",
            "Feature 17: 2.309167\n",
            "Feature 18: 2.526337\n",
            "Feature 19: 3.994762\n",
            "Feature 20: 3.109337\n",
            "Feature 21: 0.519778\n",
            "Feature 22: 0.356387\n",
            "Feature 23: 0.116054\n",
            "Feature 24: 5.677100\n"
          ]
        },
        {
          "output_type": "display_data",
          "data": {
            "text/plain": [
              "<Figure size 640x480 with 1 Axes>"
            ],
            "image/png": "[encoded data removed]"
          },
          "metadata": {}
        },
        {
          "output_type": "stream",
          "name": "stdout",
          "text": [
            "The number of important features with threshold as 1: 19\n",
            "Feature 0: 2.647197\n",
            "Feature 1: 0.606646\n",
            "Feature 2: 0.987726\n",
            "Feature 3: 3.816667\n",
            "Feature 4: 2.366213\n",
            "Feature 5: 1.146154\n",
            "Feature 6: 1.424897\n",
            "Feature 7: 4.506504\n",
            "Feature 8: 1.653086\n",
            "Feature 9: 1.386111\n",
            "Feature 10: 3.688753\n",
            "Feature 11: 2.377637\n",
            "Feature 12: 1.653040\n",
            "Feature 13: 1.869637\n",
            "Feature 14: 0.573077\n",
            "Feature 15: 2.759781\n",
            "Feature 16: 1.664387\n",
            "Feature 17: 2.188087\n",
            "Feature 18: 3.249751\n",
            "Feature 19: 4.095988\n",
            "Feature 20: 1.730137\n",
            "Feature 21: 0.844985\n",
            "Feature 22: 0.326944\n",
            "Feature 23: 0.498964\n",
            "Feature 24: 7.232533\n"
          ]
        },
        {
          "output_type": "display_data",
          "data": {
            "text/plain": [
              "<Figure size 640x480 with 1 Axes>"
            ],
            "image/png": "[encoded data removed]"
          },
          "metadata": {}
        },
        {
          "output_type": "stream",
          "name": "stdout",
          "text": [
            " The number of important features with threshold as 1 :19 \n"
          ]
        }
      ],
      "source": [
        "# feature selection\n",
        "# example of chi squared feature selection for categorical data\n",
        "def select_features(X_train, y_train, X_test):\n",
        "\tfs = SelectKBest(score_func=chi2, k='all')\n",
        "\tfs.fit(X_train, y_train)\n",
        "\tX_train_fs = fs.transform(X_train)\n",
        "\tX_test_fs = fs.transform(X_test)\n",
        "\treturn X_train_fs, X_test_fs, fs\n",
        "\n",
        "# split into train and test sets\n",
        "X_train, X_test, y_train, y_test = train_test_split(X, y, test_size=0.2, random_state=20)  # Decision tree\n",
        "X_train2, X_test2, y_train2, y_test2 = train_test_split(X, y, test_size=0.3, random_state=10)  # XGBoost\n",
        "X_train6, X_test6, y_train6, y_test6 = train_test_split(X, y, test_size=0.2, random_state=15)  # SVM\n",
        "\n",
        "X_train1, X_test1, fs1 = select_features(X_train, y_train, X_test)\n",
        "X_train3, X_test3, fs3 = select_features(X_train2, y_train2, X_test2)\n",
        "X_train5, X_test5, fs5 = select_features(X_train2, y_train2, X_test2)\n",
        "\n",
        "# what are scores for the features\n",
        "for i in range(len(fs1.scores_)):\n",
        "\tprint('Feature %d: %f' % (i, fs1.scores_[i]))\n",
        "# plot the scores\n",
        "pyplot.bar([i for i in range(len(fs1.scores_))], fs1.scores_)\n",
        "pyplot.show()\n",
        "\n",
        "count = 0\n",
        "for i in fs1.scores_:\n",
        "    if i > 1:\n",
        "        count = count + 1\n",
        "k1 = count\n",
        "print(\"The number of important features with threshold as 1: {}\".format(k1))\n",
        "\n",
        "\n",
        "\n",
        "\n",
        "\n",
        "for i in range(len(fs3.scores_)):\n",
        "\tprint('Feature %d: %f' % (i, fs3.scores_[i]))\n",
        "# plot the scores\n",
        "pyplot.bar([i for i in range(len(fs3.scores_))], fs3.scores_)\n",
        "pyplot.show()\n",
        "\n",
        "count = 0\n",
        "for i in fs3.scores_ :\n",
        "    if i > 1 :\n",
        "        count = count + 1\n",
        "k3=count\n",
        "\n",
        "print(\" The number of important features with threshold as 1 :{} \".format(k3))"
      ]
    },
    {
      "cell_type": "code",
      "execution_count": 26,
      "metadata": {
        "id": "wqvizUr3R_-d",
        "colab": {
          "base_uri": "https://localhost:8080/",
          "height": 881
        },
        "outputId": "fcb7a267-19ea-4298-efd5-9a4855b9f193"
      },
      "outputs": [
        {
          "output_type": "stream",
          "name": "stdout",
          "text": [
            "Feature 0: 2.647197\n",
            "Feature 1: 0.606646\n",
            "Feature 2: 0.987726\n",
            "Feature 3: 3.816667\n",
            "Feature 4: 2.366213\n",
            "Feature 5: 1.146154\n",
            "Feature 6: 1.424897\n",
            "Feature 7: 4.506504\n",
            "Feature 8: 1.653086\n",
            "Feature 9: 1.386111\n",
            "Feature 10: 3.688753\n",
            "Feature 11: 2.377637\n",
            "Feature 12: 1.653040\n",
            "Feature 13: 1.869637\n",
            "Feature 14: 0.573077\n",
            "Feature 15: 2.759781\n",
            "Feature 16: 1.664387\n",
            "Feature 17: 2.188087\n",
            "Feature 18: 3.249751\n",
            "Feature 19: 4.095988\n",
            "Feature 20: 1.730137\n",
            "Feature 21: 0.844985\n",
            "Feature 22: 0.326944\n",
            "Feature 23: 0.498964\n",
            "Feature 24: 7.232533\n"
          ]
        },
        {
          "output_type": "display_data",
          "data": {
            "text/plain": [
              "<Figure size 640x480 with 1 Axes>"
            ],
            "image/png": "[encoded data removed]"
          },
          "metadata": {}
        },
        {
          "output_type": "stream",
          "name": "stdout",
          "text": [
            " The number of important features with threshold as 1 : 19\n"
          ]
        }
      ],
      "source": [
        "#X_train4, X_test4, fs = select_features(X_train2, y_train2, X_test2)\n",
        "for i in range(len(fs5.scores_)):\n",
        "\tprint('Feature %d: %f' % (i, fs5.scores_[i]))\n",
        "# plot the scores\n",
        "pyplot.bar([i for i in range(len(fs5.scores_))], fs5.scores_)\n",
        "pyplot.show()\n",
        "\n",
        "count = 0\n",
        "for i in fs5.scores_ :\n",
        "    if i > 1 :\n",
        "        count = count + 1\n",
        "k5=count\n",
        "\n",
        "print(\" The number of important features with threshold as 1 : {}\" .format(k5))"
      ]
    },
    {
      "cell_type": "markdown",
      "metadata": {
        "id": "yQK5DajNzrYD"
      },
      "source": [
        "A bar chart of the feature importance scores for each input feature is created.\n",
        "\n"
      ]
    },
    {
      "cell_type": "markdown",
      "metadata": {
        "id": "p-Pll3-10ASq"
      },
      "source": [
        "So, from above plot we remove the features with lower importance scores (<1.5).\n",
        "\n",
        "Hence features 2,5,8,9,14,16,21,22,23 are not considered,\n",
        "\n",
        "We could set k=16 i.e (25-9)  When configuring the SelectKBest to select these top 16 features"
      ]
    },
    {
      "source": [
        "from sklearn.svm import SVC\n",
        "from xgboost import XGBClassifier\n",
        "from sklearn.tree import DecisionTreeClassifier"
      ],
      "cell_type": "code",
      "metadata": {
        "id": "-CLO_9rIWn_J"
      },
      "execution_count": 27,
      "outputs": []
    },
    {
      "source": [
        "def svm(X_train, y_train, X_test, y_test):\n",
        "    clf = SVC(kernel='linear')\n",
        "    clf.fit(X_train, y_train)\n",
        "    return clf.score(X_test, y_test)\n",
        "\n",
        "def Dec_tree(X_train, y_train, X_test, y_test):\n",
        "    clf = DecisionTreeClassifier()\n",
        "    clf.fit(X_train, y_train)\n",
        "    return clf.score(X_test, y_test), clf\n",
        "\n",
        "def xgboost(X_train, y_train, X_test, y_test, clf):\n",
        "    clf = XGBClassifier()\n",
        "    clf.fit(X_train, y_train)\n",
        "    return clf.score(X_test, y_test)"
      ],
      "cell_type": "code",
      "metadata": {
        "id": "qex7hb6FWopx"
      },
      "execution_count": 28,
      "outputs": []
    },
    {
      "cell_type": "code",
      "execution_count": 29,
      "metadata": {
        "id": "IcSMQuHA3rzW",
        "colab": {
          "base_uri": "https://localhost:8080/"
        },
        "outputId": "0c81d4c3-910a-4e5a-d30a-54285f72280f"
      },
      "outputs": [
        {
          "output_type": "stream",
          "name": "stdout",
          "text": [
            "Without feature Selection : \n",
            "With feature Selection : \n",
            "Without feature Selection : \n",
            "With feature Selection : \n",
            " \n"
          ]
        },
        {
          "output_type": "stream",
          "name": "stderr",
          "text": [
            "/usr/local/lib/python3.10/dist-packages/sklearn/utils/validation.py:1143: DataConversionWarning: A column-vector y was passed when a 1d array was expected. Please change the shape of y to (n_samples, ), for example using ravel().\n",
            "  y = column_or_1d(y, warn=True)\n",
            "/usr/local/lib/python3.10/dist-packages/sklearn/utils/validation.py:1143: DataConversionWarning: A column-vector y was passed when a 1d array was expected. Please change the shape of y to (n_samples, ), for example using ravel().\n",
            "  y = column_or_1d(y, warn=True)\n"
          ]
        }
      ],
      "source": [
        "def select_features(X_train, y_train, X_test):\n",
        "\tfs = SelectKBest(score_func=chi2,k=k1)\n",
        "\tfs.fit(X_train, y_train)\n",
        "\tX_train_fs = fs.transform(X_train)\n",
        "\tX_test_fs = fs.transform(X_test)\n",
        "\treturn X_train_fs, X_test_fs, fs\n",
        "\n",
        "def select_features2(X_train, y_train, X_test):\n",
        "\tfs = SelectKBest(score_func=chi2,k=k3)\n",
        "\tfs.fit(X_train, y_train)\n",
        "\tX_train_fs = fs.transform(X_train)\n",
        "\tX_test_fs = fs.transform(X_test)\n",
        "\treturn X_train_fs, X_test_fs, fs\n",
        "\n",
        "def select_features3(X_train, y_train, X_test):\n",
        "\tfs = SelectKBest(score_func=chi2,k=k5)\n",
        "\tfs.fit(X_train, y_train)\n",
        "\tX_train_fs = fs.transform(X_train)\n",
        "\tX_test_fs = fs.transform(X_test)\n",
        "\treturn X_train_fs, X_test_fs, fs\n",
        "\n",
        "\n",
        "X_train1, X_test1, fs = select_features(X_train, y_train, X_test)\n",
        "X_train3, X_test3, fs = select_features2(X_train2, y_train2, X_test2)\n",
        "X_train5, X_test5, fs = select_features3(X_train6, y_train6, X_test6)\n",
        "\n",
        "\n",
        "#---------------SVM------------------#\n",
        "#\n",
        "print(\"Without feature Selection : \")\n",
        "acc = svm(X_train6,y_train6,X_test6,y_test6)\n",
        "\n",
        "print(\"With feature Selection : \")\n",
        "acc1 = svm(X_train5,y_train6,X_test5,y_test6)\n",
        "\n",
        "#-------------Decision Tree-----------------#\n",
        "print(\"Without feature Selection : \")\n",
        "acc1, clf1 = Dec_tree(X_train1, y_train, X_test1, y_test)\n",
        "\n",
        "print(\"With feature Selection : \")\n",
        "acc,clf = Dec_tree(X_train,y_train,X_test,y_test)\n",
        "\n",
        "print(' ')\n",
        "\n",
        "\n"
      ]
    },
    {
      "cell_type": "code",
      "source": [],
      "metadata": {
        "id": "xoTyuautSScx"
      },
      "execution_count": 29,
      "outputs": []
    },
    {
      "cell_type": "markdown",
      "metadata": {
        "id": "w_GJF49U0ABF"
      },
      "source": [
        "Mutual Info Classification"
      ]
    },
    {
      "cell_type": "code",
      "execution_count": 30,
      "metadata": {
        "id": "xtsFDLnYiWNP",
        "colab": {
          "base_uri": "https://localhost:8080/",
          "height": 1000
        },
        "outputId": "20ed5817-7378-4df8-f5f3-0176de767967"
      },
      "outputs": [
        {
          "output_type": "stream",
          "name": "stderr",
          "text": [
            "/usr/local/lib/python3.10/dist-packages/sklearn/utils/validation.py:1143: DataConversionWarning: A column-vector y was passed when a 1d array was expected. Please change the shape of y to (n_samples, ), for example using ravel().\n",
            "  y = column_or_1d(y, warn=True)\n",
            "/usr/local/lib/python3.10/dist-packages/sklearn/utils/validation.py:1143: DataConversionWarning: A column-vector y was passed when a 1d array was expected. Please change the shape of y to (n_samples, ), for example using ravel().\n",
            "  y = column_or_1d(y, warn=True)\n",
            "/usr/local/lib/python3.10/dist-packages/sklearn/utils/validation.py:1143: DataConversionWarning: A column-vector y was passed when a 1d array was expected. Please change the shape of y to (n_samples, ), for example using ravel().\n",
            "  y = column_or_1d(y, warn=True)\n"
          ]
        },
        {
          "output_type": "stream",
          "name": "stdout",
          "text": [
            "Feature 0: 1.939425\n",
            "Feature 1: 0.621032\n",
            "Feature 2: 1.190205\n",
            "Feature 3: 2.361067\n",
            "Feature 4: 2.723434\n",
            "Feature 5: 1.019886\n",
            "Feature 6: 1.630621\n",
            "Feature 7: 5.962755\n",
            "Feature 8: 0.948673\n",
            "Feature 9: 1.391667\n",
            "Feature 10: 3.995109\n",
            "Feature 11: 3.001412\n",
            "Feature 12: 1.301361\n",
            "Feature 13: 1.730517\n",
            "Feature 14: 0.916034\n",
            "Feature 15: 2.627847\n",
            "Feature 16: 0.703328\n",
            "Feature 17: 2.405423\n",
            "Feature 18: 3.379566\n",
            "Feature 19: 3.567291\n",
            "Feature 20: 2.512279\n",
            "Feature 21: 1.074299\n",
            "Feature 22: 0.271954\n",
            "Feature 23: 0.452889\n",
            "Feature 24: 8.890845\n"
          ]
        },
        {
          "output_type": "display_data",
          "data": {
            "text/plain": [
              "<Figure size 640x480 with 1 Axes>"
            ],
            "image/png": "[encoded data removed]"
          },
          "metadata": {}
        },
        {
          "output_type": "stream",
          "name": "stdout",
          "text": [
            " The number of important features with threshold as 0.2 :25 \n",
            "Feature 0: 0.000000\n",
            "Feature 1: 0.046714\n",
            "Feature 2: 0.199954\n",
            "Feature 3: 0.000000\n",
            "Feature 4: 0.580310\n",
            "Feature 5: 1.673023\n",
            "Feature 6: 0.601466\n",
            "Feature 7: 0.169186\n",
            "Feature 8: 0.000000\n",
            "Feature 9: 0.198594\n",
            "Feature 10: 0.659064\n",
            "Feature 11: 0.300031\n",
            "Feature 12: 0.492015\n",
            "Feature 13: 0.270527\n",
            "Feature 14: 1.450514\n",
            "Feature 15: 0.313993\n",
            "Feature 16: 1.570250\n",
            "Feature 17: 0.228887\n",
            "Feature 18: 0.302708\n",
            "Feature 19: 0.002882\n",
            "Feature 20: 0.391456\n",
            "Feature 21: 0.506026\n",
            "Feature 22: 0.369929\n",
            "Feature 23: 0.898648\n",
            "Feature 24: 0.180963\n"
          ]
        },
        {
          "output_type": "display_data",
          "data": {
            "text/plain": [
              "<Figure size 640x480 with 1 Axes>"
            ],
            "image/png": "[encoded data removed]"
          },
          "metadata": {}
        },
        {
          "output_type": "stream",
          "name": "stdout",
          "text": [
            " The number of important features with threshold as 0.2 :16 \n",
            "Feature 0: 0.000000\n",
            "Feature 1: 0.154737\n",
            "Feature 2: 0.029110\n",
            "Feature 3: 0.000000\n",
            "Feature 4: 0.194230\n",
            "Feature 5: 0.781062\n",
            "Feature 6: 0.276399\n",
            "Feature 7: 0.222760\n",
            "Feature 8: 0.000000\n",
            "Feature 9: 0.250883\n",
            "Feature 10: 0.292315\n",
            "Feature 11: 0.108325\n",
            "Feature 12: 0.744555\n",
            "Feature 13: 0.344529\n",
            "Feature 14: 0.956623\n",
            "Feature 15: 0.303688\n",
            "Feature 16: 0.970995\n",
            "Feature 17: 0.987778\n",
            "Feature 18: 0.253299\n",
            "Feature 19: 0.174338\n",
            "Feature 20: 0.399162\n",
            "Feature 21: 0.185177\n",
            "Feature 22: 0.442601\n",
            "Feature 23: 0.135337\n",
            "Feature 24: 0.031090\n"
          ]
        },
        {
          "output_type": "display_data",
          "data": {
            "text/plain": [
              "<Figure size 640x480 with 1 Axes>"
            ],
            "image/png": "[encoded data removed]"
          },
          "metadata": {}
        },
        {
          "output_type": "stream",
          "name": "stdout",
          "text": [
            " The number of important features with threshold as 0.2 : 14\n"
          ]
        }
      ],
      "source": [
        "# example of mutual information feature selection for categorical data\n",
        "from sklearn.feature_selection import mutual_info_classif\n",
        "\n",
        "def select_features(X_train, y_train, X_test):\n",
        "\tfs = SelectKBest(score_func=mutual_info_classif, k='all')\n",
        "\tfs.fit(X_train, y_train)\n",
        "\tX_train_fs = fs.transform(X_train)\n",
        "\tX_test_fs = fs.transform(X_test)\n",
        "\treturn X_train_fs, X_test_fs, fs\n",
        "\n",
        "# split into train and test sets\n",
        "X_train, X_test, y_train, y_test = train_test_split(X, y, test_size=0.2, random_state=20)#Decision tree\n",
        "X_train2,X_test2,y_train2,y_test2=train_test_split(X,y,test_size=0.3,random_state=10)#XGBoost\n",
        "X_train6,X_test6,y_train6,y_test6=train_test_split(X,y,test_size=0.2,random_state=15)#SVM\n",
        "\n",
        "X_train1, X_test1, fs1 = select_features(X_train, y_train, X_test)\n",
        "X_train3, X_test3, fs3 = select_features(X_train2, y_train2, X_test2)\n",
        "X_train5, X_test5, fs5 = select_features(X_train2, y_train2, X_test2)\n",
        "\n",
        "# what are scores for the features\n",
        "for i in range(len(fs1.scores_)):\n",
        "\tprint('Feature %d: %f' % (i, fs.scores_[i]))\n",
        "# plot the scores\n",
        "pyplot.bar([i for i in range(len(fs.scores_))], fs.scores_)\n",
        "pyplot.show()\n",
        "\n",
        "count = 0\n",
        "for i in fs.scores_ :\n",
        "    if i > 0.2 :\n",
        "        count = count + 1\n",
        "k1=count\n",
        "print(\" The number of important features with threshold as 0.2 :{} \".format(k1))\n",
        "\n",
        "\n",
        "for i in range(len(fs3.scores_)):\n",
        "\tprint('Feature %d: %f' % (i, fs3.scores_[i]))\n",
        "# plot the scores\n",
        "pyplot.bar([i for i in range(len(fs3.scores_))], fs3.scores_)\n",
        "pyplot.show()\n",
        "\n",
        "count = 0\n",
        "for i in fs3.scores_ :\n",
        "    if i > 0.2 :\n",
        "        count = count + 1\n",
        "k3=count\n",
        "\n",
        "print(\" The number of important features with threshold as 0.2 :{} \".format(k3))\n",
        "\n",
        "#X_train4, X_test4, fs = select_features(X_train2, y_train2, X_test2)\n",
        "for i in range(len(fs5.scores_)):\n",
        "\tprint('Feature %d: %f' % (i, fs5.scores_[i]))\n",
        "# plot the scores\n",
        "pyplot.bar([i for i in range(len(fs5.scores_))], fs5.scores_)\n",
        "pyplot.show()\n",
        "\n",
        "count = 0\n",
        "for i in fs5.scores_ :\n",
        "    if i > 0.2 :\n",
        "        count = count + 1\n",
        "k5=count\n",
        "\n",
        "print(\" The number of important features with threshold as 0.2 : {}\" .format(k5))"
      ]
    },
    {
      "cell_type": "code",
      "execution_count": 31,
      "metadata": {
        "id": "caJ31ANmiROR",
        "colab": {
          "base_uri": "https://localhost:8080/"
        },
        "outputId": "4b8680be-29be-4186-b088-66c4b83865c6"
      },
      "outputs": [
        {
          "output_type": "stream",
          "name": "stderr",
          "text": [
            "/usr/local/lib/python3.10/dist-packages/sklearn/utils/validation.py:1143: DataConversionWarning: A column-vector y was passed when a 1d array was expected. Please change the shape of y to (n_samples, ), for example using ravel().\n",
            "  y = column_or_1d(y, warn=True)\n",
            "/usr/local/lib/python3.10/dist-packages/sklearn/utils/validation.py:1143: DataConversionWarning: A column-vector y was passed when a 1d array was expected. Please change the shape of y to (n_samples, ), for example using ravel().\n",
            "  y = column_or_1d(y, warn=True)\n",
            "/usr/local/lib/python3.10/dist-packages/sklearn/utils/validation.py:1143: DataConversionWarning: A column-vector y was passed when a 1d array was expected. Please change the shape of y to (n_samples, ), for example using ravel().\n",
            "  y = column_or_1d(y, warn=True)\n"
          ]
        },
        {
          "output_type": "stream",
          "name": "stdout",
          "text": [
            "Without feature Selection : \n",
            "With feature Selection : \n",
            "Without feature Selection : \n",
            "With feature Selection : \n",
            " \n"
          ]
        },
        {
          "output_type": "stream",
          "name": "stderr",
          "text": [
            "/usr/local/lib/python3.10/dist-packages/sklearn/utils/validation.py:1143: DataConversionWarning: A column-vector y was passed when a 1d array was expected. Please change the shape of y to (n_samples, ), for example using ravel().\n",
            "  y = column_or_1d(y, warn=True)\n",
            "/usr/local/lib/python3.10/dist-packages/sklearn/utils/validation.py:1143: DataConversionWarning: A column-vector y was passed when a 1d array was expected. Please change the shape of y to (n_samples, ), for example using ravel().\n",
            "  y = column_or_1d(y, warn=True)\n"
          ]
        }
      ],
      "source": [
        "def select_features(X_train, y_train, X_test):\n",
        "\tfs = SelectKBest(score_func=mutual_info_classif,k=k1)\n",
        "\tfs.fit(X_train, y_train)\n",
        "\tX_train_fs = fs.transform(X_train)\n",
        "\tX_test_fs = fs.transform(X_test)\n",
        "\treturn X_train_fs, X_test_fs, fs\n",
        "\n",
        "def select_features2(X_train, y_train, X_test):\n",
        "\tfs = SelectKBest(score_func=mutual_info_classif,k=k3)\n",
        "\tfs.fit(X_train, y_train)\n",
        "\tX_train_fs = fs.transform(X_train)\n",
        "\tX_test_fs = fs.transform(X_test)\n",
        "\treturn X_train_fs, X_test_fs, fs\n",
        "\n",
        "def select_features3(X_train, y_train, X_test):\n",
        "\tfs = SelectKBest(score_func=mutual_info_classif,k=k5)\n",
        "\tfs.fit(X_train, y_train)\n",
        "\tX_train_fs = fs.transform(X_train)\n",
        "\tX_test_fs = fs.transform(X_test)\n",
        "\treturn X_train_fs, X_test_fs, fs\n",
        "\n",
        "\n",
        "X_train1, X_test1, fs = select_features(X_train, y_train, X_test)\n",
        "X_train3, X_test3, fs = select_features2(X_train2, y_train2, X_test2)\n",
        "X_train5, X_test5, fs = select_features3(X_train6, y_train6, X_test6)\n",
        "\n",
        "\n",
        "#---------------SVM------------------#\n",
        "#\n",
        "print(\"Without feature Selection : \")\n",
        "acc = svm(X_train6,y_train6,X_test6,y_test6)\n",
        "\n",
        "print(\"With feature Selection : \")\n",
        "acc1 = svm(X_train5,y_train6,X_test5,y_test6)\n",
        "\n",
        "#-------------Decision Tree-----------------#\n",
        "print(\"Without feature Selection : \")\n",
        "acc1,clf1 = Dec_tree(X_train1,y_train,X_test1,y_test)\n",
        "\n",
        "\n",
        "print(\"With feature Selection : \")\n",
        "acc,clf = Dec_tree(X_train,y_train,X_test,y_test)\n",
        "\n",
        "print(' ')\n",
        "\n",
        "\n"
      ]
    },
    {
      "cell_type": "markdown",
      "metadata": {
        "id": "udZl3BhOubrS"
      },
      "source": [
        "Accuracies vs Techniques"
      ]
    },
    {
      "cell_type": "code",
      "execution_count": 32,
      "metadata": {
        "id": "WKBN8OCcuUKB",
        "colab": {
          "base_uri": "https://localhost:8080/",
          "height": 369
        },
        "outputId": "24500b23-8b6b-4560-ffba-21646e7c5c13"
      },
      "outputs": [
        {
          "output_type": "display_data",
          "data": {
            "text/plain": [
              "<Figure size 1000x500 with 1 Axes>"
            ],
            "image/png": "[encoded data removed]"
          },
          "metadata": {}
        }
      ],
      "source": [
        "import matplotlib.pyplot as plt\n",
        "#fig = plt.figure()\n",
        "fig = plt.figure(figsize =(10, 5))\n",
        "#ax = fig.add_axes([0,0,1,1])\n",
        "Name = ['Decision Tree(with feature selection)','Decision Tree(without feature selection)', 'XGBoost', 'SVM(with feature selction)','SVM(without feature selction)']\n",
        "accuracies = [50,40,93.333,70,60]\n",
        "plt.bar(Name,accuracies)\n",
        "plt.ylabel('Accuracies')\n",
        "plt.xlabel('Techniques')\n",
        "plt.show()"
      ]
    },
    {
      "cell_type": "markdown",
      "metadata": {
        "id": "zyc7XYm7uuaQ"
      },
      "source": [
        "Prediction for new input"
      ]
    },
    {
      "cell_type": "code",
      "execution_count": 33,
      "metadata": {
        "id": "O7c6prGGwigQ",
        "colab": {
          "base_uri": "https://localhost:8080/"
        },
        "outputId": "b1b4e507-7ad2-4a1e-e1d2-6bd5ffdef04c"
      },
      "outputs": [
        {
          "name": "stdout",
          "output_type": "stream",
          "text": [
            "sslc\n",
            "Enter: 3\n",
            "hsc\n",
            "Enter: 5\n",
            "cgpa\n",
            "Enter: 4\n",
            "school_type\n",
            "Enter: 3\n",
            "no_of_miniprojects\n",
            "Enter: 5\n",
            "no_of_projects\n",
            "Enter: 4\n",
            "coresub_skill\n",
            "Enter: 3\n",
            "aptitude_skill\n",
            "Enter: 5\n",
            "problemsolving_skill\n",
            "Enter: 2\n",
            "programming_skill\n",
            "Enter: 2\n",
            "abstractthink_skill\n",
            "Enter: 5\n",
            "design_skill\n",
            "Enter: 2\n",
            "first_computer\n",
            "Enter: 5\n",
            "first_program\n",
            "Enter: 4\n",
            "lab_programs\n",
            "Enter: 2\n",
            "ds_coding\n",
            "Enter: 5\n",
            "technology_used\n",
            "Enter: 5\n",
            "sympos_attend\n",
            "Enter: 3\n",
            "sympos_won\n",
            "Enter: 2\n",
            "extracurricular\n",
            "Enter: 5\n",
            "learning_style\n",
            "Enter: 5\n",
            "college_bench\n",
            "Enter: 4\n",
            "clg_teachers_know\n",
            "Enter: 2\n",
            "college_performence\n",
            "Enter: 3\n",
            "college_skills\n",
            "Enter: 4\n"
          ]
        },
        {
          "output_type": "execute_result",
          "data": {
            "text/plain": [
              "['3',\n",
              " '5',\n",
              " '4',\n",
              " '3',\n",
              " '5',\n",
              " '4',\n",
              " '3',\n",
              " '5',\n",
              " '2',\n",
              " '2',\n",
              " '5',\n",
              " '2',\n",
              " '5',\n",
              " '4',\n",
              " '2',\n",
              " '5',\n",
              " '5',\n",
              " '3',\n",
              " '2',\n",
              " '5',\n",
              " '5',\n",
              " '4',\n",
              " '2',\n",
              " '3',\n",
              " '4']"
            ]
          },
          "metadata": {},
          "execution_count": 33
        }
      ],
      "source": [
        "\n",
        "# x_new = ['3','5','4','3','5','4','3','5','2','2','5','2','5','4','2','5','5','3','2','5','5','4','2','3','4']\n",
        "x_new = []\n",
        "feat = list(X.columns)\n",
        "for i in feat:\n",
        "  print(i)\n",
        "  val = input(\"Enter: \")\n",
        "  x_new.append(val)\n",
        "x_new"
      ]
    },
    {
      "cell_type": "code",
      "execution_count": 34,
      "metadata": {
        "id": "z2kjQBMywiy1",
        "colab": {
          "base_uri": "https://localhost:8080/"
        },
        "outputId": "2cc8e082-1d90-4189-929b-1c4c4bcb8b3c"
      },
      "outputs": [
        {
          "output_type": "stream",
          "name": "stdout",
          "text": [
            "Prediction : 4    Technical Writer\n",
            "Name: ROLE, dtype: object\n"
          ]
        },
        {
          "output_type": "stream",
          "name": "stderr",
          "text": [
            "/usr/local/lib/python3.10/dist-packages/sklearn/base.py:439: UserWarning: X does not have valid feature names, but DecisionTreeClassifier was fitted with feature names\n",
            "  warnings.warn(\n"
          ]
        }
      ],
      "source": [
        "#x_new = ['3','5','4','3','5','4','3','5','2','2','5','2','5','4','2','5','5','3','2','5','5','4','2','3','4']\n",
        "new_pred  = clf.predict([x_new])\n",
        "print(\"Prediction : {}\".format(y1[y1['Associated Number']==new_pred[0]]['ROLE']))"
      ]
    },
    {
      "cell_type": "markdown",
      "metadata": {
        "id": "jHdvspMzzaKs"
      },
      "source": [
        "Algorithms : SVM, Decision Tree and XGBoost"
      ]
    },
    {
      "cell_type": "code",
      "execution_count": 35,
      "metadata": {
        "id": "gm5sjkrDwiQ_"
      },
      "outputs": [],
      "source": [
        "#Support Vector machine\n",
        "from sklearn.metrics import confusion_matrix,accuracy_score\n",
        "def svm(X_train,y_train,X_test,y_test):\n",
        "  from sklearn.svm import SVC\n",
        "  from pandas import read_csv\n",
        "  from sklearn.model_selection import train_test_split\n",
        "\n",
        "  # import metrics to compute accuracy\n",
        "  from sklearn.metrics import accuracy_score\n",
        "  svc=SVC()\n",
        "  # fit classifier to training set\n",
        "  svc.fit(X_train,y_train)\n",
        "  # make predictions on test set\n",
        "  y_pred=svc.predict(X_test)\n",
        "  # compute and print accuracy score\n",
        "  print('Model accuracy score with default hyperparameters: {0:0.4f}'. format(accuracy_score(y_test, y_pred)*100))\n",
        "  return accuracy_score(y_test, y_pred)*100\n",
        "\n",
        "def Dec_tree(X_train,y_train,X_test,y_test):\n",
        "  from sklearn import tree\n",
        "  clf = tree.DecisionTreeClassifier()\n",
        "  clf = clf.fit(X_train, y_train)\n",
        "  # Prediction\n",
        "  y_pred = clf.predict(X_test)\n",
        "  y_test_arr=y_test['role']\n",
        "  from sklearn.metrics import confusion_matrix,accuracy_score\n",
        "  accuracy = accuracy_score(y_test,y_pred)\n",
        "  print('Model accuracy score with Decision Tree', accuracy_score(y_test, y_pred)*100)\n",
        "  return accuracy*100,clf\n",
        "\n"
      ]
    }
  ],
  "metadata": {
    "colab": {
      "provenance": [],
      "include_colab_link": true
    },
    "kernelspec": {
      "display_name": "Python 3",
      "name": "python3"
    }
  },
  "nbformat": 4,
  "nbformat_minor": 0
}